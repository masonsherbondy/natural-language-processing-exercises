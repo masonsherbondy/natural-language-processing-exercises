{
 "cells": [
  {
   "cell_type": "markdown",
   "id": "76be9011",
   "metadata": {},
   "source": [
    "# Regular Expressions Exercises"
   ]
  },
  {
   "cell_type": "code",
   "execution_count": 1,
   "id": "6e531c8e",
   "metadata": {},
   "outputs": [],
   "source": [
    "# import regex\n",
    "import re"
   ]
  },
  {
   "cell_type": "markdown",
   "id": "e6ab9c3d",
   "metadata": {},
   "source": [
    "### Exercise I\n",
    "Write a function named is_vowel. It should accept a string as input and use a regular expression to determine if the passed string is a vowel. While not explicity mentioned in the lesson, you can treat the result of re.search as a boolean value that indicates whether or not the regular expression matches the given string."
   ]
  },
  {
   "cell_type": "code",
   "execution_count": 2,
   "id": "4f9459ac",
   "metadata": {},
   "outputs": [],
   "source": [
    "def is_vowel(string):\n",
    "    return bool(re.search(r'^[aeiou]{1}$', string, re.IGNORECASE))"
   ]
  },
  {
   "cell_type": "code",
   "execution_count": 3,
   "id": "0feefc3d",
   "metadata": {},
   "outputs": [
    {
     "data": {
      "text/plain": [
       "True"
      ]
     },
     "execution_count": 3,
     "metadata": {},
     "output_type": "execute_result"
    }
   ],
   "source": [
    "is_vowel('E')"
   ]
  },
  {
   "cell_type": "markdown",
   "id": "977b5ec3",
   "metadata": {},
   "source": [
    "### Exercise II\n",
    "Write a function named is_valid_username that accepts a string as input. A valid username starts with a lowercase letter, and only consists of lowercase letters, numbers, or the _ character. It should also be no longer than 32 characters. The function should return either True or False depending on whether the passed string is a valid username.\n",
    "\n",
    "\n",
    "* is_valid_username('aaaaaaaaaaaaaaaaaaaaaaaaaaaaaaaaa')\n",
    "    * False\n",
    "*  is_valid_username('codeup')\n",
    "    * True\n",
    "*  is_valid_username('Codeup')\n",
    "    * False\n",
    "*  is_valid_username('codeup123')\n",
    "    * True\n",
    "*  is_valid_username('1codeup')\n",
    "    * False"
   ]
  },
  {
   "cell_type": "code",
   "execution_count": 4,
   "id": "4b185ab8",
   "metadata": {},
   "outputs": [],
   "source": [
    "def is_valid_username(string):\n",
    "    \n",
    "    # return boolean value if eligible match found for something that:\n",
    "    # starts with any lower case letter, and any alphanumeric character or underscore for the next 31 characters\n",
    "    return bool(re.search(r'^[a-z]\\w{1,31}$', string))"
   ]
  },
  {
   "cell_type": "code",
   "execution_count": 5,
   "id": "48020e93",
   "metadata": {},
   "outputs": [
    {
     "name": "stdout",
     "output_type": "stream",
     "text": [
      "False\n",
      "True\n",
      "False\n",
      "True\n",
      "False\n"
     ]
    }
   ],
   "source": [
    "# test functionality\n",
    "\n",
    "if __name__ == '__main__':\n",
    "    print(is_valid_username('aaaaaaaaaaaaaaaaaaaaaaaaaaaaaaaaa'))\n",
    "    print(is_valid_username('codeup'))\n",
    "    print(is_valid_username('Codeup'))\n",
    "    print(is_valid_username('codeup123'))\n",
    "    print(is_valid_username('1codeup'))"
   ]
  },
  {
   "cell_type": "markdown",
   "id": "7ee9b243",
   "metadata": {},
   "source": [
    "### Exercise III\n",
    "Write a regular expression to capture phone numbers. It should match all of the following:\n",
    "\n",
    "* (210) 867 5309\n",
    "* +1 210.867.5309\n",
    "* 867-5309\n",
    "* 210-867-5309"
   ]
  },
  {
   "cell_type": "code",
   "execution_count": 6,
   "id": "afbca902",
   "metadata": {},
   "outputs": [],
   "source": [
    "def return_phone_number(string):\n",
    "    return re.search(r'.?\\d{3}.?\\d{4}|.*?\\d{3}.*?\\d{3}.*?\\d{4}', string)"
   ]
  },
  {
   "cell_type": "code",
   "execution_count": 7,
   "id": "f034cb07",
   "metadata": {},
   "outputs": [
    {
     "name": "stdout",
     "output_type": "stream",
     "text": [
      "<re.Match object; span=(0, 14), match='(210) 867 5309'>\n",
      "<re.Match object; span=(0, 15), match='+1 210.867.5309'>\n",
      "<re.Match object; span=(0, 8), match='867-5309'>\n",
      "<re.Match object; span=(0, 12), match='210-867-5309'>\n"
     ]
    }
   ],
   "source": [
    "if __name__ == '__main__':\n",
    "    print(return_phone_number('(210) 867 5309'))\n",
    "    print(return_phone_number('+1 210.867.5309'))\n",
    "    print(return_phone_number('867-5309'))\n",
    "    print(return_phone_number('210-867-5309'))"
   ]
  },
  {
   "cell_type": "markdown",
   "id": "4aeb49b6",
   "metadata": {},
   "source": [
    "### Exercise IV\n",
    "Use regular expressions to convert the dates below to the standardized year-month-day format.\n",
    "\n",
    "* 02/04/19\n",
    "* 02/05/19\n",
    "* 02/06/19\n",
    "* 02/07/19\n",
    "* 02/08/19\n",
    "* 02/09/19\n",
    "* 02/10/19"
   ]
  },
  {
   "cell_type": "code",
   "execution_count": null,
   "id": "e13e0d27",
   "metadata": {},
   "outputs": [],
   "source": [
    "re.sub('/', )"
   ]
  },
  {
   "cell_type": "code",
   "execution_count": null,
   "id": "5cf8a9f6",
   "metadata": {},
   "outputs": [],
   "source": []
  },
  {
   "cell_type": "code",
   "execution_count": null,
   "id": "d9fc1b5f",
   "metadata": {},
   "outputs": [],
   "source": []
  },
  {
   "cell_type": "markdown",
   "id": "6f963787",
   "metadata": {},
   "source": [
    "### Exercise V\n",
    "Write a regex to extract the various parts of these logfile lines:\n",
    "\n",
    "\n",
    "GET /api/v1/sales?page=86 [16/Apr/2019:193452+0000] HTTP/1.1 {200} 510348 \"python-requests/2.21.0\" 97.105.19.58\n",
    "\n",
    "POST /users_accounts/file-upload [16/Apr/2019:193452+0000] HTTP/1.1 {201} 42 \"User-Agent: Mozilla/5.0 (X11; Fedora; Fedora; Linux x86_64) AppleWebKit/537.36 (KHTML, like Gecko) Chrome/73.0.3683.86 Safari/537.36\" 97.105.19.58\n",
    "\n",
    "GET /api/v1/items?page=3 [16/Apr/2019:193453+0000] HTTP/1.1 {429} 3561 \"python-requests/2.21.0\" 97.105.19.58"
   ]
  },
  {
   "cell_type": "code",
   "execution_count": null,
   "id": "9962e868",
   "metadata": {},
   "outputs": [],
   "source": []
  },
  {
   "cell_type": "code",
   "execution_count": null,
   "id": "ba5d8ac3",
   "metadata": {},
   "outputs": [],
   "source": []
  },
  {
   "cell_type": "code",
   "execution_count": null,
   "id": "2352ac9d",
   "metadata": {},
   "outputs": [],
   "source": []
  },
  {
   "cell_type": "code",
   "execution_count": null,
   "id": "5d78a2fe",
   "metadata": {},
   "outputs": [],
   "source": []
  },
  {
   "cell_type": "code",
   "execution_count": null,
   "id": "2e6fe250",
   "metadata": {},
   "outputs": [],
   "source": []
  },
  {
   "cell_type": "markdown",
   "id": "8717bfa0",
   "metadata": {},
   "source": [
    "### Bonus Exercise\n",
    "\n",
    "You can find a list of words on your mac at /usr/share/dict/words. Use this file to answer the following questions:\n",
    "\n",
    "\n",
    "- How many words have at least 3 vowels?\n",
    "- How many words have at least 3 vowels in a row?\n",
    "- How many words have at least 4 consonants in a row?\n",
    "- How many words start and end with the same letter?\n",
    "- How many words start and end with a vowel?\n",
    "- How many words contain the same letter 3 times in a row?\n",
    "- What other interesting patterns in words can you find?"
   ]
  },
  {
   "cell_type": "code",
   "execution_count": null,
   "id": "8fdde612",
   "metadata": {},
   "outputs": [],
   "source": []
  }
 ],
 "metadata": {
  "kernelspec": {
   "display_name": "Python 3",
   "language": "python",
   "name": "python3"
  },
  "language_info": {
   "codemirror_mode": {
    "name": "ipython",
    "version": 3
   },
   "file_extension": ".py",
   "mimetype": "text/x-python",
   "name": "python",
   "nbconvert_exporter": "python",
   "pygments_lexer": "ipython3",
   "version": "3.8.8"
  }
 },
 "nbformat": 4,
 "nbformat_minor": 5
}
