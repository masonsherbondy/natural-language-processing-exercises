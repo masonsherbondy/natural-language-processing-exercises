{
 "cells": [
  {
   "cell_type": "markdown",
   "id": "34ff5d9c",
   "metadata": {},
   "source": [
    "# Regular Expressions Exercises"
   ]
  },
  {
   "cell_type": "code",
   "execution_count": 1,
   "id": "7947802c",
   "metadata": {},
   "outputs": [],
   "source": [
    "# import regex\n",
    "import re"
   ]
  },
  {
   "cell_type": "markdown",
   "id": "191cd151",
   "metadata": {},
   "source": [
    "### Exercise I\n",
    "Write a function named is_vowel. It should accept a string as input and use a regular expression to determine if the passed string is a vowel. While not explicity mentioned in the lesson, you can treat the result of re.search as a boolean value that indicates whether or not the regular expression matches the given string."
   ]
  },
  {
   "cell_type": "code",
   "execution_count": 2,
   "id": "3ba55087",
   "metadata": {},
   "outputs": [],
   "source": [
    "def is_vowel(string):\n",
    "    \n",
    "    '''\n",
    "    This function returns bool True if re determines the passed string is a single vowel.\n",
    "    '''\n",
    "    \n",
    "    return bool(re.search(r'^[aeiou]{1}$', string, re.IGNORECASE))"
   ]
  },
  {
   "cell_type": "code",
   "execution_count": 28,
   "id": "e667b57c",
   "metadata": {},
   "outputs": [
    {
     "name": "stdout",
     "output_type": "stream",
     "text": [
      "False\n",
      "True\n",
      "False\n"
     ]
    }
   ],
   "source": [
    "# test function\n",
    "if __name__ == '__main__':\n",
    "    print(is_vowel('n'))\n",
    "    print(is_vowel('E'))\n",
    "    print(is_vowel('EEEEEEeeeee'))"
   ]
  },
  {
   "cell_type": "markdown",
   "id": "cb85e770",
   "metadata": {},
   "source": [
    "### Exercise II\n",
    "Write a function named is_valid_username that accepts a string as input. A valid username starts with a lowercase letter, and only consists of lowercase letters, numbers, or the _ character. It should also be no longer than 32 characters. The function should return either True or False depending on whether the passed string is a valid username.\n",
    "\n",
    "\n",
    "* is_valid_username('aaaaaaaaaaaaaaaaaaaaaaaaaaaaaaaaa')\n",
    "    * False\n",
    "*  is_valid_username('codeup')\n",
    "    * True\n",
    "*  is_valid_username('Codeup')\n",
    "    * False\n",
    "*  is_valid_username('codeup123')\n",
    "    * True\n",
    "*  is_valid_username('1codeup')\n",
    "    * False"
   ]
  },
  {
   "cell_type": "code",
   "execution_count": 4,
   "id": "eef85929",
   "metadata": {},
   "outputs": [],
   "source": [
    "def is_valid_username(string):\n",
    "    \n",
    "    '''\n",
    "    This function returns bool True if re determines an eligible match found for something that starts with any lower\n",
    "    case letter, and any alphanumeric character or underscore for the next 31 characters.\n",
    "    ''' \n",
    "     \n",
    "    return bool(re.search(r'^[a-z]\\w{1,31}$', string))"
   ]
  },
  {
   "cell_type": "code",
   "execution_count": 5,
   "id": "4cd15506",
   "metadata": {},
   "outputs": [
    {
     "name": "stdout",
     "output_type": "stream",
     "text": [
      "False\n",
      "True\n",
      "False\n",
      "True\n",
      "False\n"
     ]
    }
   ],
   "source": [
    "# test functionality\n",
    "\n",
    "if __name__ == '__main__':\n",
    "    print(is_valid_username('aaaaaaaaaaaaaaaaaaaaaaaaaaaaaaaaa'))\n",
    "    print(is_valid_username('codeup'))\n",
    "    print(is_valid_username('Codeup'))\n",
    "    print(is_valid_username('codeup123'))\n",
    "    print(is_valid_username('1codeup'))"
   ]
  },
  {
   "cell_type": "markdown",
   "id": "0d928a1e",
   "metadata": {},
   "source": [
    "### Exercise III\n",
    "Write a regular expression to capture phone numbers. It should match all of the following:\n",
    "\n",
    "* (210) 867 5309\n",
    "* +1 210.867.5309\n",
    "* 867-5309\n",
    "* 210-867-5309"
   ]
  },
  {
   "cell_type": "code",
   "execution_count": 6,
   "id": "256cdfe7",
   "metadata": {},
   "outputs": [],
   "source": [
    "def return_phone_number(string):\n",
    "    \n",
    "    '''\n",
    "    This function accepts a string, a phone number, and returns the string of the phone number (and more)\n",
    "    if re determines that it is a phone number.\n",
    "    '''\n",
    "    \n",
    "    return re.search(r'.?\\d{3}.?\\d{4}|.*?\\d{3}.*?\\d{3}.*?\\d{4}', string)"
   ]
  },
  {
   "cell_type": "code",
   "execution_count": 7,
   "id": "8dc0eea3",
   "metadata": {},
   "outputs": [
    {
     "name": "stdout",
     "output_type": "stream",
     "text": [
      "<re.Match object; span=(0, 14), match='(210) 867 5309'>\n",
      "<re.Match object; span=(0, 15), match='+1 210.867.5309'>\n",
      "<re.Match object; span=(0, 8), match='867-5309'>\n",
      "<re.Match object; span=(0, 12), match='210-867-5309'>\n"
     ]
    }
   ],
   "source": [
    "# test functionality\n",
    "if __name__ == '__main__':\n",
    "    print(return_phone_number('(210) 867 5309'))\n",
    "    print(return_phone_number('+1 210.867.5309'))\n",
    "    print(return_phone_number('867-5309'))\n",
    "    print(return_phone_number('210-867-5309'))"
   ]
  },
  {
   "cell_type": "markdown",
   "id": "4a6f206f",
   "metadata": {},
   "source": [
    "### Exercise IV\n",
    "Use regular expressions to convert the dates below to the standardized year-month-day format.\n",
    "\n",
    "* 02/04/19\n",
    "* 02/05/19\n",
    "* 02/06/19\n",
    "* 02/07/19\n",
    "* 02/08/19\n",
    "* 02/09/19\n",
    "* 02/10/19"
   ]
  },
  {
   "cell_type": "code",
   "execution_count": 20,
   "id": "c3bc9f22",
   "metadata": {},
   "outputs": [
    {
     "data": {
      "text/plain": [
       "['02', '04', '19']"
      ]
     },
     "execution_count": 20,
     "metadata": {},
     "output_type": "execute_result"
    }
   ],
   "source": [
    "# assign variable to string for testing\n",
    "string = '02/04/19'\n",
    "\n",
    "# find all instances of 2 digits\n",
    "re.findall(r'\\d{2}', string)"
   ]
  },
  {
   "cell_type": "code",
   "execution_count": 19,
   "id": "433102d8",
   "metadata": {},
   "outputs": [
    {
     "data": {
      "text/plain": [
       "['02', '04', '19']"
      ]
     },
     "execution_count": 19,
     "metadata": {},
     "output_type": "execute_result"
    }
   ],
   "source": [
    "# split string on '/'\n",
    "re.split(r'/', string)"
   ]
  },
  {
   "cell_type": "code",
   "execution_count": 25,
   "id": "d9d14d13",
   "metadata": {},
   "outputs": [
    {
     "data": {
      "text/plain": [
       "'02/04/2019'"
      ]
     },
     "execution_count": 25,
     "metadata": {},
     "output_type": "execute_result"
    }
   ],
   "source": [
    "# substitute 4 digit years for 2 digit years\n",
    "re.sub(r'\\d{2}$', '2019', string)"
   ]
  },
  {
   "cell_type": "code",
   "execution_count": 26,
   "id": "18ab2b5a",
   "metadata": {},
   "outputs": [
    {
     "data": {
      "text/plain": [
       "['02/04/2019',\n",
       " '02/05/2019',\n",
       " '02/06/2019',\n",
       " '02/07/2019',\n",
       " '02/08/2019',\n",
       " '02/09/2019',\n",
       " '02/10/2019']"
      ]
     },
     "execution_count": 26,
     "metadata": {},
     "output_type": "execute_result"
    }
   ],
   "source": [
    "new_dates = []\n",
    "dates = ['02/04/19', '02/05/19', '02/06/19', '02/07/19', '02/08/19', '02/09/19', '02/10/19']\n",
    "for string in dates:\n",
    "    new_dates.append(re.sub(r'\\d{2}$', '2019', string))\n",
    "\n",
    "late_dates = []\n",
    "for string in new_dates:\n",
    "    late_dates.append(re.sub(r'))"
   ]
  },
  {
   "cell_type": "code",
   "execution_count": null,
   "id": "a831bf24",
   "metadata": {},
   "outputs": [],
   "source": []
  },
  {
   "cell_type": "code",
   "execution_count": null,
   "id": "974acb92",
   "metadata": {},
   "outputs": [],
   "source": []
  },
  {
   "cell_type": "code",
   "execution_count": null,
   "id": "48a0f8b6",
   "metadata": {},
   "outputs": [],
   "source": []
  },
  {
   "cell_type": "code",
   "execution_count": null,
   "id": "e6339cb0",
   "metadata": {},
   "outputs": [],
   "source": []
  },
  {
   "cell_type": "markdown",
   "id": "502496f3",
   "metadata": {},
   "source": [
    "### Exercise V\n",
    "Write a regex to extract the various parts of these logfile lines:\n",
    "\n",
    "\n",
    "GET /api/v1/sales?page=86 [16/Apr/2019:193452+0000] HTTP/1.1 {200} 510348 \"python-requests/2.21.0\" 97.105.19.58\n",
    "\n",
    "POST /users_accounts/file-upload [16/Apr/2019:193452+0000] HTTP/1.1 {201} 42 \"User-Agent: Mozilla/5.0 (X11; Fedora; Fedora; Linux x86_64) AppleWebKit/537.36 (KHTML, like Gecko) Chrome/73.0.3683.86 Safari/537.36\" 97.105.19.58\n",
    "\n",
    "GET /api/v1/items?page=3 [16/Apr/2019:193453+0000] HTTP/1.1 {429} 3561 \"python-requests/2.21.0\" 97.105.19.58"
   ]
  },
  {
   "cell_type": "code",
   "execution_count": null,
   "id": "b879c983",
   "metadata": {},
   "outputs": [],
   "source": []
  },
  {
   "cell_type": "code",
   "execution_count": null,
   "id": "5885396e",
   "metadata": {},
   "outputs": [],
   "source": []
  },
  {
   "cell_type": "code",
   "execution_count": null,
   "id": "dcd1bca4",
   "metadata": {},
   "outputs": [],
   "source": []
  },
  {
   "cell_type": "code",
   "execution_count": null,
   "id": "dae50329",
   "metadata": {},
   "outputs": [],
   "source": []
  },
  {
   "cell_type": "code",
   "execution_count": null,
   "id": "3c5243dc",
   "metadata": {},
   "outputs": [],
   "source": []
  },
  {
   "cell_type": "markdown",
   "id": "e2ed4eea",
   "metadata": {},
   "source": [
    "### Bonus Exercise\n",
    "\n",
    "You can find a list of words on your mac at /usr/share/dict/words. Use this file to answer the following questions:\n",
    "\n",
    "\n",
    "- How many words have at least 3 vowels?\n",
    "- How many words have at least 3 vowels in a row?\n",
    "- How many words have at least 4 consonants in a row?\n",
    "- How many words start and end with the same letter?\n",
    "- How many words start and end with a vowel?\n",
    "- How many words contain the same letter 3 times in a row?\n",
    "- What other interesting patterns in words can you find?"
   ]
  },
  {
   "cell_type": "code",
   "execution_count": null,
   "id": "dacfb30e",
   "metadata": {},
   "outputs": [],
   "source": []
  }
 ],
 "metadata": {
  "kernelspec": {
   "display_name": "Python 3",
   "language": "python",
   "name": "python3"
  },
  "language_info": {
   "codemirror_mode": {
    "name": "ipython",
    "version": 3
   },
   "file_extension": ".py",
   "mimetype": "text/x-python",
   "name": "python",
   "nbconvert_exporter": "python",
   "pygments_lexer": "ipython3",
   "version": "3.8.8"
  }
 },
 "nbformat": 4,
 "nbformat_minor": 5
}
