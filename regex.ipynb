{
 "cells": [
  {
   "cell_type": "markdown",
   "id": "693c8080",
   "metadata": {},
   "source": [
    "# Regular Expressions Exercises"
   ]
  },
  {
   "cell_type": "code",
   "execution_count": 1,
   "id": "84fac6e0",
   "metadata": {},
   "outputs": [],
   "source": [
    "# import regex and pandas\n",
    "import re\n",
    "import pandas as pd"
   ]
  },
  {
   "cell_type": "markdown",
   "id": "54d8fc13",
   "metadata": {},
   "source": [
    "### Exercise I\n",
    "Write a function named is_vowel. It should accept a string as input and use a regular expression to determine if the passed string is a vowel. While not explicity mentioned in the lesson, you can treat the result of re.search as a boolean value that indicates whether or not the regular expression matches the given string."
   ]
  },
  {
   "cell_type": "code",
   "execution_count": 2,
   "id": "5dce1962",
   "metadata": {},
   "outputs": [],
   "source": [
    "def is_vowel(string):\n",
    "    \n",
    "    '''\n",
    "    This function returns bool True if re determines the passed string is a single vowel.\n",
    "    '''\n",
    "    \n",
    "    return bool(re.search(r'^[aeiou]{1}$', string, re.IGNORECASE))"
   ]
  },
  {
   "cell_type": "code",
   "execution_count": 3,
   "id": "a2b21a0e",
   "metadata": {},
   "outputs": [
    {
     "name": "stdout",
     "output_type": "stream",
     "text": [
      "False\n",
      "True\n",
      "False\n"
     ]
    }
   ],
   "source": [
    "# test function\n",
    "if __name__ == '__main__':\n",
    "    print(is_vowel('n'))\n",
    "    print(is_vowel('E'))\n",
    "    print(is_vowel('EEEEEEeeeee'))"
   ]
  },
  {
   "cell_type": "markdown",
   "id": "11a31ecb",
   "metadata": {},
   "source": [
    "### Exercise II\n",
    "Write a function named is_valid_username that accepts a string as input. A valid username starts with a lowercase letter, and only consists of lowercase letters, numbers, or the _ character. It should also be no longer than 32 characters. The function should return either True or False depending on whether the passed string is a valid username.\n",
    "\n",
    "\n",
    "* is_valid_username('aaaaaaaaaaaaaaaaaaaaaaaaaaaaaaaaa')\n",
    "    * False\n",
    "*  is_valid_username('codeup')\n",
    "    * True\n",
    "*  is_valid_username('Codeup')\n",
    "    * False\n",
    "*  is_valid_username('codeup123')\n",
    "    * True\n",
    "*  is_valid_username('1codeup')\n",
    "    * False"
   ]
  },
  {
   "cell_type": "code",
   "execution_count": 4,
   "id": "dff79bb3",
   "metadata": {},
   "outputs": [],
   "source": [
    "def is_valid_username(string):\n",
    "    \n",
    "    '''\n",
    "    This function returns bool True if re determines an eligible match found for something that starts with any lower\n",
    "    case letter, and any alphanumeric character or underscore for the next 31 characters.\n",
    "    ''' \n",
    "     \n",
    "    return bool(re.search(r'^[a-z]\\w{,31}$', string))"
   ]
  },
  {
   "cell_type": "code",
   "execution_count": 5,
   "id": "2cead95f",
   "metadata": {},
   "outputs": [
    {
     "name": "stdout",
     "output_type": "stream",
     "text": [
      "False\n",
      "True\n",
      "False\n",
      "True\n",
      "False\n"
     ]
    }
   ],
   "source": [
    "# test functionality\n",
    "\n",
    "if __name__ == '__main__':\n",
    "    print(is_valid_username('aaaaaaaaaaaaaaaaaaaaaaaaaaaaaaaaa'))\n",
    "    print(is_valid_username('codeup'))\n",
    "    print(is_valid_username('Codeup'))\n",
    "    print(is_valid_username('codeup123'))\n",
    "    print(is_valid_username('1codeup'))"
   ]
  },
  {
   "cell_type": "markdown",
   "id": "9a6b9a7a",
   "metadata": {},
   "source": [
    "### Exercise III\n",
    "Write a regular expression to capture phone numbers. It should match all of the following:\n",
    "\n",
    "* (210) 867 5309\n",
    "* +1 210.867.5309\n",
    "* 867-5309\n",
    "* 210-867-5309"
   ]
  },
  {
   "cell_type": "code",
   "execution_count": 6,
   "id": "bafe979d",
   "metadata": {},
   "outputs": [],
   "source": [
    "def return_phone_number(string):\n",
    "    \n",
    "    '''\n",
    "    This function accepts a string, a phone number, and returns the string of the phone number (and more)\n",
    "    if re determines that it is a phone number.\n",
    "    '''\n",
    "    \n",
    "    return re.search(r'.?\\d{3}.?\\d{4}|.*?\\d{3}.*?\\d{3}.*?\\d{4}', string)"
   ]
  },
  {
   "cell_type": "code",
   "execution_count": 7,
   "id": "f15057ac",
   "metadata": {},
   "outputs": [
    {
     "name": "stdout",
     "output_type": "stream",
     "text": [
      "<re.Match object; span=(0, 14), match='(210) 867 5309'>\n",
      "<re.Match object; span=(0, 15), match='+1 210.867.5309'>\n",
      "<re.Match object; span=(0, 8), match='867-5309'>\n",
      "<re.Match object; span=(0, 12), match='210-867-5309'>\n"
     ]
    }
   ],
   "source": [
    "# test functionality\n",
    "if __name__ == '__main__':\n",
    "    print(return_phone_number('(210) 867 5309'))\n",
    "    print(return_phone_number('+1 210.867.5309'))\n",
    "    print(return_phone_number('867-5309'))\n",
    "    print(return_phone_number('210-867-5309'))"
   ]
  },
  {
   "cell_type": "markdown",
   "id": "f4579c99",
   "metadata": {},
   "source": [
    "### Alternate method using both pandas and regex provided by Orsinger"
   ]
  },
  {
   "cell_type": "code",
   "execution_count": 8,
   "id": "a5d83616",
   "metadata": {},
   "outputs": [
    {
     "data": {
      "text/html": [
       "<div>\n",
       "<style scoped>\n",
       "    .dataframe tbody tr th:only-of-type {\n",
       "        vertical-align: middle;\n",
       "    }\n",
       "\n",
       "    .dataframe tbody tr th {\n",
       "        vertical-align: top;\n",
       "    }\n",
       "\n",
       "    .dataframe thead th {\n",
       "        text-align: right;\n",
       "    }\n",
       "</style>\n",
       "<table border=\"1\" class=\"dataframe\">\n",
       "  <thead>\n",
       "    <tr style=\"text-align: right;\">\n",
       "      <th></th>\n",
       "      <th>number</th>\n",
       "    </tr>\n",
       "  </thead>\n",
       "  <tbody>\n",
       "    <tr>\n",
       "      <th>0</th>\n",
       "      <td>(210) 867 5309</td>\n",
       "    </tr>\n",
       "    <tr>\n",
       "      <th>1</th>\n",
       "      <td>+1 210.867.5309</td>\n",
       "    </tr>\n",
       "    <tr>\n",
       "      <th>2</th>\n",
       "      <td>867-5309</td>\n",
       "    </tr>\n",
       "    <tr>\n",
       "      <th>3</th>\n",
       "      <td>210-867-5309</td>\n",
       "    </tr>\n",
       "    <tr>\n",
       "      <th>4</th>\n",
       "      <td>2108675309</td>\n",
       "    </tr>\n",
       "  </tbody>\n",
       "</table>\n",
       "</div>"
      ],
      "text/plain": [
       "            number\n",
       "0   (210) 867 5309\n",
       "1  +1 210.867.5309\n",
       "2         867-5309\n",
       "3     210-867-5309\n",
       "4       2108675309"
      ]
     },
     "execution_count": 8,
     "metadata": {},
     "output_type": "execute_result"
    }
   ],
   "source": [
    "# design phone search algorithm\n",
    "phone_search = re.compile(\n",
    "'''\n",
    "^(?P<country_code>\\+\\d+)?\n",
    "\\D*?\n",
    "(?P<area_code>\\d{3})?\n",
    "\\D*?\n",
    "(?P<exchange_code>\\d{3})\n",
    "\\D*?\n",
    "(?P<line_number>\\d{4})\n",
    "''', re.VERBOSE)\n",
    "\n",
    "'''\n",
    "This algorithm searches for numbers that may (optional) start with a country code; it searches for and \n",
    "identifies a country code by searching for a literal \"+\" (\\+) sign and then one or more (+) of any digit (\\d). \n",
    "Optional (?). It then searches for anything that isn't a digit (\\D) immediately after searching for area code \n",
    "(white-space odds). Optional (?). It then searches for an area code by looking for {3} digits (\\d). Optional (?).  \n",
    "It then checks for optional white space again. It then searches for an exchange code, {3} digits (\\d). It then \n",
    "checks for optional white space again. It then searches for a line_number of {4} digits (\\d). It then declares this code has freedom of speech, and should not be taken ligthly. End journal.\n",
    "'''\n",
    "\n",
    "df = pd.DataFrame()    # create empty dataframe\n",
    "df['number'] = [    # assign number column to baby dataframe\n",
    "    '(210) 867 5309',\n",
    "    '+1 210.867.5309',\n",
    "    '867-5309',\n",
    "    '210-867-5309',\n",
    "    '2108675309',\n",
    "]\n",
    "\n",
    "df   # watch baby dataframe grow up"
   ]
  },
  {
   "cell_type": "code",
   "execution_count": 9,
   "id": "a5cc6cd6",
   "metadata": {},
   "outputs": [
    {
     "data": {
      "text/html": [
       "<div>\n",
       "<style scoped>\n",
       "    .dataframe tbody tr th:only-of-type {\n",
       "        vertical-align: middle;\n",
       "    }\n",
       "\n",
       "    .dataframe tbody tr th {\n",
       "        vertical-align: top;\n",
       "    }\n",
       "\n",
       "    .dataframe thead th {\n",
       "        text-align: right;\n",
       "    }\n",
       "</style>\n",
       "<table border=\"1\" class=\"dataframe\">\n",
       "  <thead>\n",
       "    <tr style=\"text-align: right;\">\n",
       "      <th></th>\n",
       "      <th>number</th>\n",
       "      <th>country_code</th>\n",
       "      <th>area_code</th>\n",
       "      <th>exchange_code</th>\n",
       "      <th>line_number</th>\n",
       "    </tr>\n",
       "  </thead>\n",
       "  <tbody>\n",
       "    <tr>\n",
       "      <th>0</th>\n",
       "      <td>(210) 867 5309</td>\n",
       "      <td>NaN</td>\n",
       "      <td>210</td>\n",
       "      <td>867</td>\n",
       "      <td>5309</td>\n",
       "    </tr>\n",
       "    <tr>\n",
       "      <th>1</th>\n",
       "      <td>+1 210.867.5309</td>\n",
       "      <td>+1</td>\n",
       "      <td>210</td>\n",
       "      <td>867</td>\n",
       "      <td>5309</td>\n",
       "    </tr>\n",
       "    <tr>\n",
       "      <th>2</th>\n",
       "      <td>867-5309</td>\n",
       "      <td>NaN</td>\n",
       "      <td>NaN</td>\n",
       "      <td>867</td>\n",
       "      <td>5309</td>\n",
       "    </tr>\n",
       "    <tr>\n",
       "      <th>3</th>\n",
       "      <td>210-867-5309</td>\n",
       "      <td>NaN</td>\n",
       "      <td>210</td>\n",
       "      <td>867</td>\n",
       "      <td>5309</td>\n",
       "    </tr>\n",
       "    <tr>\n",
       "      <th>4</th>\n",
       "      <td>2108675309</td>\n",
       "      <td>NaN</td>\n",
       "      <td>210</td>\n",
       "      <td>867</td>\n",
       "      <td>5309</td>\n",
       "    </tr>\n",
       "  </tbody>\n",
       "</table>\n",
       "</div>"
      ],
      "text/plain": [
       "            number country_code area_code exchange_code line_number\n",
       "0   (210) 867 5309          NaN       210           867        5309\n",
       "1  +1 210.867.5309           +1       210           867        5309\n",
       "2         867-5309          NaN       NaN           867        5309\n",
       "3     210-867-5309          NaN       210           867        5309\n",
       "4       2108675309          NaN       210           867        5309"
      ]
     },
     "execution_count": 9,
     "metadata": {},
     "output_type": "execute_result"
    }
   ],
   "source": [
    "# extract text from number column using defined phone search algorithm above and concatenate with baby df\n",
    "df = pd.concat([df, df.number.str.extract(phone_search)], axis = 1)\n",
    "\n",
    "# watch dataframe succeed in life\n",
    "df"
   ]
  },
  {
   "cell_type": "markdown",
   "id": "2972bcf1",
   "metadata": {},
   "source": [
    "### Exercise IV\n",
    "Use regular expressions to convert the dates below to the standardized year-month-day format.\n",
    "\n",
    "* 02/04/19\n",
    "* 02/05/19\n",
    "* 02/06/19\n",
    "* 02/07/19\n",
    "* 02/08/19\n",
    "* 02/09/19\n",
    "* 02/10/19"
   ]
  },
  {
   "cell_type": "code",
   "execution_count": 10,
   "id": "2bd88966",
   "metadata": {},
   "outputs": [
    {
     "data": {
      "text/plain": [
       "['02', '04', '19']"
      ]
     },
     "execution_count": 10,
     "metadata": {},
     "output_type": "execute_result"
    }
   ],
   "source": [
    "# assign variable to string for testing\n",
    "string = '02/04/19'\n",
    "\n",
    "# find all instances of 2 digits\n",
    "re.findall(r'\\d{2}', string)"
   ]
  },
  {
   "cell_type": "code",
   "execution_count": 11,
   "id": "654cc95a",
   "metadata": {},
   "outputs": [
    {
     "data": {
      "text/plain": [
       "['02', '04', '19']"
      ]
     },
     "execution_count": 11,
     "metadata": {},
     "output_type": "execute_result"
    }
   ],
   "source": [
    "# split string on '/'\n",
    "re.split(r'/', string)"
   ]
  },
  {
   "cell_type": "code",
   "execution_count": 12,
   "id": "8300767c",
   "metadata": {},
   "outputs": [
    {
     "data": {
      "text/plain": [
       "'02/04/2019'"
      ]
     },
     "execution_count": 12,
     "metadata": {},
     "output_type": "execute_result"
    }
   ],
   "source": [
    "# substitute 4 digit years for 2 digit years\n",
    "re.sub(r'\\d{2}$', '2019', string)"
   ]
  },
  {
   "cell_type": "code",
   "execution_count": 13,
   "id": "828105d0",
   "metadata": {},
   "outputs": [
    {
     "data": {
      "text/plain": [
       "['02/04/2019',\n",
       " '02/05/2019',\n",
       " '02/06/2019',\n",
       " '02/07/2019',\n",
       " '02/08/2019',\n",
       " '02/09/2019',\n",
       " '02/10/2019']"
      ]
     },
     "execution_count": 13,
     "metadata": {},
     "output_type": "execute_result"
    }
   ],
   "source": [
    "new_dates = []\n",
    "dates = ['02/04/19', '02/05/19', '02/06/19', '02/07/19', '02/08/19', '02/09/19', '02/10/19']\n",
    "for string in dates:\n",
    "    new_dates.append(re.sub(r'\\d{2}$', '2019', string))\n",
    "\n",
    "new_dates"
   ]
  },
  {
   "cell_type": "code",
   "execution_count": 14,
   "id": "ea18e4cc",
   "metadata": {},
   "outputs": [
    {
     "data": {
      "text/html": [
       "<div>\n",
       "<style scoped>\n",
       "    .dataframe tbody tr th:only-of-type {\n",
       "        vertical-align: middle;\n",
       "    }\n",
       "\n",
       "    .dataframe tbody tr th {\n",
       "        vertical-align: top;\n",
       "    }\n",
       "\n",
       "    .dataframe thead th {\n",
       "        text-align: right;\n",
       "    }\n",
       "</style>\n",
       "<table border=\"1\" class=\"dataframe\">\n",
       "  <thead>\n",
       "    <tr style=\"text-align: right;\">\n",
       "      <th></th>\n",
       "      <th>original</th>\n",
       "      <th>new_date</th>\n",
       "    </tr>\n",
       "  </thead>\n",
       "  <tbody>\n",
       "    <tr>\n",
       "      <th>0</th>\n",
       "      <td>02/04/19</td>\n",
       "      <td>02/04/2019</td>\n",
       "    </tr>\n",
       "    <tr>\n",
       "      <th>1</th>\n",
       "      <td>02/05/19</td>\n",
       "      <td>02/05/2019</td>\n",
       "    </tr>\n",
       "    <tr>\n",
       "      <th>2</th>\n",
       "      <td>02/06/19</td>\n",
       "      <td>02/06/2019</td>\n",
       "    </tr>\n",
       "    <tr>\n",
       "      <th>3</th>\n",
       "      <td>02/07/19</td>\n",
       "      <td>02/07/2019</td>\n",
       "    </tr>\n",
       "    <tr>\n",
       "      <th>4</th>\n",
       "      <td>02/08/19</td>\n",
       "      <td>02/08/2019</td>\n",
       "    </tr>\n",
       "    <tr>\n",
       "      <th>5</th>\n",
       "      <td>02/09/19</td>\n",
       "      <td>02/09/2019</td>\n",
       "    </tr>\n",
       "    <tr>\n",
       "      <th>6</th>\n",
       "      <td>02/10/19</td>\n",
       "      <td>02/10/2019</td>\n",
       "    </tr>\n",
       "  </tbody>\n",
       "</table>\n",
       "</div>"
      ],
      "text/plain": [
       "   original    new_date\n",
       "0  02/04/19  02/04/2019\n",
       "1  02/05/19  02/05/2019\n",
       "2  02/06/19  02/06/2019\n",
       "3  02/07/19  02/07/2019\n",
       "4  02/08/19  02/08/2019\n",
       "5  02/09/19  02/09/2019\n",
       "6  02/10/19  02/10/2019"
      ]
     },
     "execution_count": 14,
     "metadata": {},
     "output_type": "execute_result"
    }
   ],
   "source": [
    "late_dates = pd.DataFrame(dates)\n",
    "late_dates['new_date'] = new_dates\n",
    "late_dates.columns = ['original', 'new_date']\n",
    "late_dates"
   ]
  },
  {
   "cell_type": "code",
   "execution_count": 15,
   "id": "ff79102f",
   "metadata": {},
   "outputs": [
    {
     "data": {
      "text/html": [
       "<div>\n",
       "<style scoped>\n",
       "    .dataframe tbody tr th:only-of-type {\n",
       "        vertical-align: middle;\n",
       "    }\n",
       "\n",
       "    .dataframe tbody tr th {\n",
       "        vertical-align: top;\n",
       "    }\n",
       "\n",
       "    .dataframe thead th {\n",
       "        text-align: right;\n",
       "    }\n",
       "</style>\n",
       "<table border=\"1\" class=\"dataframe\">\n",
       "  <thead>\n",
       "    <tr style=\"text-align: right;\">\n",
       "      <th></th>\n",
       "      <th>original</th>\n",
       "      <th>new_date</th>\n",
       "      <th>month</th>\n",
       "      <th>day</th>\n",
       "      <th>year</th>\n",
       "      <th>standardized_format</th>\n",
       "    </tr>\n",
       "  </thead>\n",
       "  <tbody>\n",
       "    <tr>\n",
       "      <th>0</th>\n",
       "      <td>02/04/19</td>\n",
       "      <td>02/04/2019</td>\n",
       "      <td>02</td>\n",
       "      <td>04</td>\n",
       "      <td>2019</td>\n",
       "      <td>2019-02-04</td>\n",
       "    </tr>\n",
       "    <tr>\n",
       "      <th>1</th>\n",
       "      <td>02/05/19</td>\n",
       "      <td>02/05/2019</td>\n",
       "      <td>02</td>\n",
       "      <td>05</td>\n",
       "      <td>2019</td>\n",
       "      <td>2019-02-05</td>\n",
       "    </tr>\n",
       "    <tr>\n",
       "      <th>2</th>\n",
       "      <td>02/06/19</td>\n",
       "      <td>02/06/2019</td>\n",
       "      <td>02</td>\n",
       "      <td>06</td>\n",
       "      <td>2019</td>\n",
       "      <td>2019-02-06</td>\n",
       "    </tr>\n",
       "    <tr>\n",
       "      <th>3</th>\n",
       "      <td>02/07/19</td>\n",
       "      <td>02/07/2019</td>\n",
       "      <td>02</td>\n",
       "      <td>07</td>\n",
       "      <td>2019</td>\n",
       "      <td>2019-02-07</td>\n",
       "    </tr>\n",
       "    <tr>\n",
       "      <th>4</th>\n",
       "      <td>02/08/19</td>\n",
       "      <td>02/08/2019</td>\n",
       "      <td>02</td>\n",
       "      <td>08</td>\n",
       "      <td>2019</td>\n",
       "      <td>2019-02-08</td>\n",
       "    </tr>\n",
       "    <tr>\n",
       "      <th>5</th>\n",
       "      <td>02/09/19</td>\n",
       "      <td>02/09/2019</td>\n",
       "      <td>02</td>\n",
       "      <td>09</td>\n",
       "      <td>2019</td>\n",
       "      <td>2019-02-09</td>\n",
       "    </tr>\n",
       "    <tr>\n",
       "      <th>6</th>\n",
       "      <td>02/10/19</td>\n",
       "      <td>02/10/2019</td>\n",
       "      <td>02</td>\n",
       "      <td>10</td>\n",
       "      <td>2019</td>\n",
       "      <td>2019-02-10</td>\n",
       "    </tr>\n",
       "  </tbody>\n",
       "</table>\n",
       "</div>"
      ],
      "text/plain": [
       "   original    new_date month day  year standardized_format\n",
       "0  02/04/19  02/04/2019    02  04  2019          2019-02-04\n",
       "1  02/05/19  02/05/2019    02  05  2019          2019-02-05\n",
       "2  02/06/19  02/06/2019    02  06  2019          2019-02-06\n",
       "3  02/07/19  02/07/2019    02  07  2019          2019-02-07\n",
       "4  02/08/19  02/08/2019    02  08  2019          2019-02-08\n",
       "5  02/09/19  02/09/2019    02  09  2019          2019-02-09\n",
       "6  02/10/19  02/10/2019    02  10  2019          2019-02-10"
      ]
     },
     "execution_count": 15,
     "metadata": {},
     "output_type": "execute_result"
    }
   ],
   "source": [
    "date_search = re.compile(\n",
    "r'''\n",
    "(?P<month>\\d{2})/\n",
    "(?P<day>\\d{2})/\n",
    "(?P<year>\\d{4})\n",
    "''', re.VERBOSE)\n",
    "\n",
    "dates = pd.concat([late_dates, late_dates.new_date.str.extract(date_search)], axis = 1)\n",
    "dates['standardized_format'] = dates.year + '-' + dates.month + '-' + dates.day\n",
    "dates"
   ]
  },
  {
   "cell_type": "markdown",
   "id": "3916c856",
   "metadata": {},
   "source": [
    "### Exercise V\n",
    "Write a regex to extract the various parts of these logfile lines:\n",
    "\n",
    "\n",
    "GET /api/v1/sales?page=86 [16/Apr/2019:193452+0000] HTTP/1.1 {200} 510348 \"python-requests/2.21.0\" 97.105.19.58\n",
    "\n",
    "POST /users_accounts/file-upload [16/Apr/2019:193452+0000] HTTP/1.1 {201} 42 \"User-Agent: Mozilla/5.0 (X11; Fedora; Fedora; Linux x86_64) AppleWebKit/537.36 (KHTML, like Gecko) Chrome/73.0.3683.86 Safari/537.36\" 97.105.19.58\n",
    "\n",
    "GET /api/v1/items?page=3 [16/Apr/2019:193453+0000] HTTP/1.1 {429} 3561 \"python-requests/2.21.0\" 97.105.19.58"
   ]
  },
  {
   "cell_type": "code",
   "execution_count": 16,
   "id": "d0d20709",
   "metadata": {},
   "outputs": [
    {
     "data": {
      "text/plain": [
       "['GET /api/v1/sales?page=86 [16/Apr/2019:193452+0000] HTTP/1.1 {200} 510348 \"python-requests/2.21.0\" 97.105.19.58',\n",
       " 'POST /users_accounts/file-upload [16/Apr/2019:193452+0000] HTTP/1.1 {201} 42 \"User-Agent: Mozilla/5.0 (X11; Fedora; Fedora; Linux x86_64) AppleWebKit/537.36 (KHTML, like Gecko) Chrome/73.0.3683.86 Safari/537.36\" 97.105.19.58',\n",
       " 'GET /api/v1/items?page=3 [16/Apr/2019:193453+0000] HTTP/1.1 {429} 3561 \"python-requests/2.21.0\" 97.105.19.58']"
      ]
     },
     "execution_count": 16,
     "metadata": {},
     "output_type": "execute_result"
    }
   ],
   "source": [
    "# define list 'lines' with logfile line data \n",
    "lines = [\n",
    "    \"\"\"GET /api/v1/sales?page=86 [16/Apr/2019:193452+0000] HTTP/1.1 {200} 510348 \"python-requests/2.21.0\" 97.105.19.58\"\"\",\n",
    "    \"\"\"POST /users_accounts/file-upload [16/Apr/2019:193452+0000] HTTP/1.1 {201} 42 \"User-Agent: Mozilla/5.0 (X11; Fedora; Fedora; Linux x86_64) AppleWebKit/537.36 (KHTML, like Gecko) Chrome/73.0.3683.86 Safari/537.36\" 97.105.19.58\"\"\",\n",
    "    \"\"\"GET /api/v1/items?page=3 [16/Apr/2019:193453+0000] HTTP/1.1 {429} 3561 \"python-requests/2.21.0\" 97.105.19.58\"\"\"\n",
    "]\n",
    "\n",
    "lines    # view lines"
   ]
  },
  {
   "cell_type": "code",
   "execution_count": 17,
   "id": "48178473",
   "metadata": {},
   "outputs": [],
   "source": [
    "# courtesy of the mythic Orsinger\n",
    "log_search = re.compile(r'''\n",
    "(?P<method>GET|POST)\n",
    "\\s\n",
    "(?P<path>[/\\w\\-\\?=]+)\n",
    "\\s\n",
    "\\[(?P<timestamp>.+)\\]\n",
    "\\s\n",
    "(?P<http_version>HTTP/\\d+\\.\\d+)\n",
    "\\s\n",
    "\\{(?P<status_code>\\d+)\\}\n",
    "\\s\n",
    "(?P<bytes>\\d+)\n",
    "\\s\n",
    "\"(?P<user_agent>.+)\"\n",
    "\\s\n",
    "(?P<ip>\\d{1,3}\\.\\d{1,3}\\.\\d{1,3}\\.d{1,3})\n",
    "$\n",
    "''', re.VERBOSE)\n",
    "                        "
   ]
  },
  {
   "cell_type": "code",
   "execution_count": 18,
   "id": "58f1e327",
   "metadata": {},
   "outputs": [
    {
     "ename": "AttributeError",
     "evalue": "'NoneType' object has no attribute 'groupdict'",
     "output_type": "error",
     "traceback": [
      "\u001b[0;31m---------------------------------------------------------------------------\u001b[0m",
      "\u001b[0;31mAttributeError\u001b[0m                            Traceback (most recent call last)",
      "\u001b[0;32m<ipython-input-18-3c4d5a2f88c5>\u001b[0m in \u001b[0;36m<module>\u001b[0;34m\u001b[0m\n\u001b[0;32m----> 1\u001b[0;31m \u001b[0mrows\u001b[0m \u001b[0;34m=\u001b[0m \u001b[0;34m[\u001b[0m\u001b[0mre\u001b[0m\u001b[0;34m.\u001b[0m\u001b[0msearch\u001b[0m\u001b[0;34m(\u001b[0m\u001b[0mlog_search\u001b[0m\u001b[0;34m,\u001b[0m \u001b[0mline\u001b[0m\u001b[0;34m)\u001b[0m\u001b[0;34m.\u001b[0m\u001b[0mgroupdict\u001b[0m\u001b[0;34m(\u001b[0m\u001b[0;34m)\u001b[0m \u001b[0;32mfor\u001b[0m \u001b[0mline\u001b[0m \u001b[0;32min\u001b[0m \u001b[0mlines\u001b[0m\u001b[0;34m]\u001b[0m\u001b[0;34m\u001b[0m\u001b[0;34m\u001b[0m\u001b[0m\n\u001b[0m\u001b[1;32m      2\u001b[0m \u001b[0mrows\u001b[0m\u001b[0;34m\u001b[0m\u001b[0;34m\u001b[0m\u001b[0m\n",
      "\u001b[0;32m<ipython-input-18-3c4d5a2f88c5>\u001b[0m in \u001b[0;36m<listcomp>\u001b[0;34m(.0)\u001b[0m\n\u001b[0;32m----> 1\u001b[0;31m \u001b[0mrows\u001b[0m \u001b[0;34m=\u001b[0m \u001b[0;34m[\u001b[0m\u001b[0mre\u001b[0m\u001b[0;34m.\u001b[0m\u001b[0msearch\u001b[0m\u001b[0;34m(\u001b[0m\u001b[0mlog_search\u001b[0m\u001b[0;34m,\u001b[0m \u001b[0mline\u001b[0m\u001b[0;34m)\u001b[0m\u001b[0;34m.\u001b[0m\u001b[0mgroupdict\u001b[0m\u001b[0;34m(\u001b[0m\u001b[0;34m)\u001b[0m \u001b[0;32mfor\u001b[0m \u001b[0mline\u001b[0m \u001b[0;32min\u001b[0m \u001b[0mlines\u001b[0m\u001b[0;34m]\u001b[0m\u001b[0;34m\u001b[0m\u001b[0;34m\u001b[0m\u001b[0m\n\u001b[0m\u001b[1;32m      2\u001b[0m \u001b[0mrows\u001b[0m\u001b[0;34m\u001b[0m\u001b[0;34m\u001b[0m\u001b[0m\n",
      "\u001b[0;31mAttributeError\u001b[0m: 'NoneType' object has no attribute 'groupdict'"
     ]
    }
   ],
   "source": [
    "rows = [re.search(log_search, line).groupdict() for line in lines]\n",
    "rows"
   ]
  },
  {
   "cell_type": "code",
   "execution_count": null,
   "id": "1bbdc885",
   "metadata": {},
   "outputs": [],
   "source": []
  },
  {
   "cell_type": "code",
   "execution_count": null,
   "id": "72fc1e2e",
   "metadata": {},
   "outputs": [],
   "source": []
  },
  {
   "cell_type": "markdown",
   "id": "27d6ba15",
   "metadata": {},
   "source": [
    "### Bonus Exercise\n",
    "\n",
    "You can find a list of words on your mac at /usr/share/dict/words. Use this file to answer the following questions:\n",
    "\n",
    "\n",
    "- How many words have at least 3 vowels?\n",
    "- How many words have at least 3 vowels in a row?\n",
    "- How many words have at least 4 consonants in a row?\n",
    "- How many words start and end with the same letter?\n",
    "- How many words start and end with a vowel?\n",
    "- How many words contain the same letter 3 times in a row?\n",
    "- What other interesting patterns in words can you find?"
   ]
  },
  {
   "cell_type": "code",
   "execution_count": null,
   "id": "1e7da57f",
   "metadata": {},
   "outputs": [],
   "source": []
  }
 ],
 "metadata": {
  "kernelspec": {
   "display_name": "Python 3",
   "language": "python",
   "name": "python3"
  },
  "language_info": {
   "codemirror_mode": {
    "name": "ipython",
    "version": 3
   },
   "file_extension": ".py",
   "mimetype": "text/x-python",
   "name": "python",
   "nbconvert_exporter": "python",
   "pygments_lexer": "ipython3",
   "version": "3.8.8"
  }
 },
 "nbformat": 4,
 "nbformat_minor": 5
}
