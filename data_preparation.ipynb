{
 "cells": [
  {
   "cell_type": "markdown",
   "id": "bfbbbb5f",
   "metadata": {},
   "source": [
    "# Data Preparation Exercises"
   ]
  },
  {
   "cell_type": "code",
   "execution_count": 1,
   "id": "3becf4dc",
   "metadata": {},
   "outputs": [],
   "source": [
    "import unicodedata\n",
    "import re\n",
    "import json\n",
    "\n",
    "import nltk\n",
    "from nltk.tokenize.toktok import ToktokTokenizer\n",
    "from nltk.corpus import stopwords\n",
    "\n",
    "import numpy as np\n",
    "import pandas as pd\n",
    "import acquire\n",
    "import time\n",
    "\n",
    "import warnings\n",
    "warnings.filterwarnings('ignore')"
   ]
  },
  {
   "cell_type": "markdown",
   "id": "59ac2aef",
   "metadata": {},
   "source": [
    "## Exercises\n",
    "The end result of this exercise should be a file named `prepare.py` that defines the requested functions.\n",
    "\n",
    "In this exercise we will be defining some functions to prepare textual data. These functions should apply equally well to both the codeup blog articles and the news articles that were previously acquired."
   ]
  },
  {
   "cell_type": "code",
   "execution_count": 2,
   "id": "fa37194a",
   "metadata": {},
   "outputs": [],
   "source": [
    "# load data\n",
    "blogs = acquire.get_blog_articles()\n",
    "inshorts = acquire.get_inshorts()"
   ]
  },
  {
   "cell_type": "markdown",
   "id": "7d62acad",
   "metadata": {},
   "source": [
    "### Exercise I\n",
    "Define a function named basic_clean. It should take in a string and apply some basic text cleaning to it:\n",
    "\n",
    "- Lowercase everything\n",
    "- Normalize unicode characters\n",
    "- Replace anything that is not a letter, number, whitespace or a single quote."
   ]
  },
  {
   "cell_type": "code",
   "execution_count": 3,
   "id": "e8ea4294",
   "metadata": {},
   "outputs": [],
   "source": [
    "# ty, AG\n",
    "def basic_clean(string):\n",
    "    '''\n",
    "    This function takes in a string and\n",
    "    returns the string normalized.\n",
    "    '''\n",
    "    string = unicodedata.normalize('NFKD', string)\\\n",
    "             .encode('ascii', 'ignore')\\\n",
    "             .decode('utf-8', 'ignore')\n",
    "    string = re.sub(r'[^\\w\\s]', '', string).lower()\n",
    "    \n",
    "    return string"
   ]
  },
  {
   "cell_type": "markdown",
   "id": "94a5bdab",
   "metadata": {},
   "source": [
    "### Exercise II\n",
    "Define a function named `tokenize`. It should take in a string and tokenize all the words in the string"
   ]
  },
  {
   "cell_type": "code",
   "execution_count": 4,
   "id": "dd251633",
   "metadata": {},
   "outputs": [],
   "source": [
    "# ty AG\n",
    "def tokenize(string):\n",
    "    '''\n",
    "    This function takes in a string and\n",
    "    returns a tokenized string.\n",
    "    '''\n",
    "    # Create tokenizer\n",
    "    tokenizer = nltk.tokenize.ToktokTokenizer()\n",
    "    \n",
    "    # Use tokenizer\n",
    "    string = tokenizer.tokenize(string, return_str = True)\n",
    "    \n",
    "    return string"
   ]
  },
  {
   "cell_type": "markdown",
   "id": "3a5aeb6d",
   "metadata": {},
   "source": [
    "### Exercise III\n",
    "Define a function named `stem`. It should accept some text and return the text after applying stemming to all the words."
   ]
  },
  {
   "cell_type": "code",
   "execution_count": 5,
   "id": "278441e7",
   "metadata": {},
   "outputs": [],
   "source": [
    "# ty AG\n",
    "def stem(string):\n",
    "    '''\n",
    "    This function takes in a string and\n",
    "    returns a string with words stemmed.\n",
    "    '''\n",
    "    # Create porter stemmer.\n",
    "    ps = nltk.porter.PorterStemmer()\n",
    "    \n",
    "    # Use the stemmer to stem each word in the list of words we created by using split.\n",
    "    stems = [ps.stem(word) for word in string.split()]\n",
    "    \n",
    "    # Join our lists of words into a string again and assign to a variable.\n",
    "    string = ' '.join(stems)\n",
    "    \n",
    "    return string"
   ]
  },
  {
   "cell_type": "markdown",
   "id": "623e6516",
   "metadata": {},
   "source": [
    "### Exercise IV\n",
    "Define a function named `lemmatize`. It should accept some text and return the text after applying lemmatization to each word."
   ]
  },
  {
   "cell_type": "code",
   "execution_count": 6,
   "id": "b9abd698",
   "metadata": {},
   "outputs": [],
   "source": [
    "# ty AG\n",
    "def lemmatize(string):\n",
    "    '''\n",
    "    This function takes in string for and\n",
    "    returns a string with words lemmatized.\n",
    "    '''\n",
    "    # Create the lemmatizer.\n",
    "    wnl = nltk.stem.WordNetLemmatizer()\n",
    "    \n",
    "    # Use the lemmatizer on each word in the list of words we created by using split.\n",
    "    lemmas = [wnl.lemmatize(word) for word in string.split()]\n",
    "    \n",
    "    # Join our list of words into a string again and assign to a variable.\n",
    "    string = ' '.join(lemmas)\n",
    "    \n",
    "    return string"
   ]
  },
  {
   "cell_type": "markdown",
   "id": "31e2b1b9",
   "metadata": {},
   "source": [
    "### Exercise V\n",
    "Define a function named `remove_stopwords`. It should accept some text and return the text after removing all the stopwords.     This function should define two optional parameters, extra_words and exclude_words. These parameters should define any additional stop words to include, and any words that we don't want to remove."
   ]
  },
  {
   "cell_type": "code",
   "execution_count": 7,
   "id": "e99cb3fb",
   "metadata": {},
   "outputs": [],
   "source": [
    "# ty AG\n",
    "\n",
    "def remove_stopwords(string, extra_words = [], exclude_words = []):\n",
    "    '''\n",
    "    This function takes in a string, optional extra_words and exclude_words parameters\n",
    "    with default empty lists and returns a string.\n",
    "    '''\n",
    "    # Create stopword_list.\n",
    "    stopword_list = stopwords.words('english')\n",
    "    \n",
    "    # Remove 'exclude_words' from stopword_list to keep these in my text.\n",
    "    stopword_list = set(stopword_list).difference(set(exclude_words))\n",
    "    \n",
    "    # Add in 'extra_words' to stopword_list.\n",
    "    stopword_list = stopword_list.union(set(extra_words))\n",
    "\n",
    "    # Split words in string.\n",
    "    words = string.split()\n",
    "    \n",
    "    # Create a list of words from my string with stopwords removed and assign to variable.\n",
    "    filtered_words = [word for word in words if word not in stopword_list]\n",
    "    \n",
    "    # Join words in the list back into strings and assign to a variable.\n",
    "    string_without_stopwords = ' '.join(filtered_words)\n",
    "    \n",
    "    return string_without_stopwords"
   ]
  },
  {
   "cell_type": "markdown",
   "id": "ebef946e",
   "metadata": {},
   "source": [
    "### Exercise VI\n",
    "Use your data from the acquire to produce a dataframe of the news articles. Name the dataframe `news_df`."
   ]
  },
  {
   "cell_type": "code",
   "execution_count": 8,
   "id": "e369916c",
   "metadata": {},
   "outputs": [
    {
     "data": {
      "text/html": [
       "<div>\n",
       "<style scoped>\n",
       "    .dataframe tbody tr th:only-of-type {\n",
       "        vertical-align: middle;\n",
       "    }\n",
       "\n",
       "    .dataframe tbody tr th {\n",
       "        vertical-align: top;\n",
       "    }\n",
       "\n",
       "    .dataframe thead th {\n",
       "        text-align: right;\n",
       "    }\n",
       "</style>\n",
       "<table border=\"1\" class=\"dataframe\">\n",
       "  <thead>\n",
       "    <tr style=\"text-align: right;\">\n",
       "      <th></th>\n",
       "      <th>category</th>\n",
       "      <th>publish_date</th>\n",
       "      <th>article</th>\n",
       "      <th>content</th>\n",
       "      <th>author</th>\n",
       "    </tr>\n",
       "  </thead>\n",
       "  <tbody>\n",
       "    <tr>\n",
       "      <th>0</th>\n",
       "      <td>business</td>\n",
       "      <td>03 Feb 2022,Thursday</td>\n",
       "      <td>RBI cancels licence of Maha-based Independence...</td>\n",
       "      <td>RBI has cancelled licence of Maharashtra-based...</td>\n",
       "      <td>Shalini Ojha</td>\n",
       "    </tr>\n",
       "    <tr>\n",
       "      <th>1</th>\n",
       "      <td>business</td>\n",
       "      <td>04 Feb 2022,Friday</td>\n",
       "      <td>This is an infrastructure and growth-focused B...</td>\n",
       "      <td>Capex outlay has been increased and private ca...</td>\n",
       "      <td>Roshan Gupta</td>\n",
       "    </tr>\n",
       "    <tr>\n",
       "      <th>2</th>\n",
       "      <td>business</td>\n",
       "      <td>04 Feb 2022,Friday</td>\n",
       "      <td>Self-taught beautician to micro-entrepreneur, ...</td>\n",
       "      <td>The latest episode of Urban Company Impact int...</td>\n",
       "      <td>Roshan Gupta</td>\n",
       "    </tr>\n",
       "    <tr>\n",
       "      <th>3</th>\n",
       "      <td>business</td>\n",
       "      <td>03 Feb 2022,Thursday</td>\n",
       "      <td>Facebook parent Meta's $230-billion wipeout bi...</td>\n",
       "      <td>Facebook's parent Meta's shares plunged 27% an...</td>\n",
       "      <td>Pragya Swastik</td>\n",
       "    </tr>\n",
       "    <tr>\n",
       "      <th>4</th>\n",
       "      <td>business</td>\n",
       "      <td>04 Feb 2022,Friday</td>\n",
       "      <td>Facebook facing unprecedented level of competi...</td>\n",
       "      <td>At a virtual meeting, Meta CEO Mark Zuckerberg...</td>\n",
       "      <td>Kiran Khatri</td>\n",
       "    </tr>\n",
       "  </tbody>\n",
       "</table>\n",
       "</div>"
      ],
      "text/plain": [
       "   category          publish_date  \\\n",
       "0  business  03 Feb 2022,Thursday   \n",
       "1  business    04 Feb 2022,Friday   \n",
       "2  business    04 Feb 2022,Friday   \n",
       "3  business  03 Feb 2022,Thursday   \n",
       "4  business    04 Feb 2022,Friday   \n",
       "\n",
       "                                             article  \\\n",
       "0  RBI cancels licence of Maha-based Independence...   \n",
       "1  This is an infrastructure and growth-focused B...   \n",
       "2  Self-taught beautician to micro-entrepreneur, ...   \n",
       "3  Facebook parent Meta's $230-billion wipeout bi...   \n",
       "4  Facebook facing unprecedented level of competi...   \n",
       "\n",
       "                                             content          author  \n",
       "0  RBI has cancelled licence of Maharashtra-based...    Shalini Ojha  \n",
       "1  Capex outlay has been increased and private ca...    Roshan Gupta  \n",
       "2  The latest episode of Urban Company Impact int...    Roshan Gupta  \n",
       "3  Facebook's parent Meta's shares plunged 27% an...  Pragya Swastik  \n",
       "4  At a virtual meeting, Meta CEO Mark Zuckerberg...    Kiran Khatri  "
      ]
     },
     "execution_count": 8,
     "metadata": {},
     "output_type": "execute_result"
    }
   ],
   "source": [
    "# acquire news data\n",
    "news_df = acquire.get_inshorts()\n",
    "\n",
    "# preview data\n",
    "news_df.head()"
   ]
  },
  {
   "cell_type": "code",
   "execution_count": 9,
   "id": "b5b9e038",
   "metadata": {},
   "outputs": [
    {
     "name": "stdout",
     "output_type": "stream",
     "text": [
      "<class 'pandas.core.frame.DataFrame'>\n",
      "Int64Index: 99 entries, 0 to 23\n",
      "Data columns (total 5 columns):\n",
      " #   Column        Non-Null Count  Dtype \n",
      "---  ------        --------------  ----- \n",
      " 0   category      99 non-null     object\n",
      " 1   publish_date  99 non-null     object\n",
      " 2   article       99 non-null     object\n",
      " 3   content       99 non-null     object\n",
      " 4   author        99 non-null     object\n",
      "dtypes: object(5)\n",
      "memory usage: 4.6+ KB\n"
     ]
    }
   ],
   "source": [
    "# get dataframe info\n",
    "news_df.info()"
   ]
  },
  {
   "cell_type": "markdown",
   "id": "a4f66ad8",
   "metadata": {},
   "source": [
    "### Exercise VII\n",
    "Make another dataframe for the Codeup blog posts. Name the dataframe `codeup_df`."
   ]
  },
  {
   "cell_type": "code",
   "execution_count": 10,
   "id": "5a02ad6a",
   "metadata": {},
   "outputs": [
    {
     "data": {
      "text/html": [
       "<div>\n",
       "<style scoped>\n",
       "    .dataframe tbody tr th:only-of-type {\n",
       "        vertical-align: middle;\n",
       "    }\n",
       "\n",
       "    .dataframe tbody tr th {\n",
       "        vertical-align: top;\n",
       "    }\n",
       "\n",
       "    .dataframe thead th {\n",
       "        text-align: right;\n",
       "    }\n",
       "</style>\n",
       "<table border=\"1\" class=\"dataframe\">\n",
       "  <thead>\n",
       "    <tr style=\"text-align: right;\">\n",
       "      <th></th>\n",
       "      <th>publish_date</th>\n",
       "      <th>article</th>\n",
       "      <th>content</th>\n",
       "      <th>link</th>\n",
       "    </tr>\n",
       "  </thead>\n",
       "  <tbody>\n",
       "    <tr>\n",
       "      <th>0</th>\n",
       "      <td>Jan 26, 2022</td>\n",
       "      <td>Codeup Start Dates for March 2022</td>\n",
       "      <td>As we approach the end of January we wanted to...</td>\n",
       "      <td>https://codeup.com/codeup-news/codeup-start-da...</td>\n",
       "    </tr>\n",
       "    <tr>\n",
       "      <th>1</th>\n",
       "      <td>Jan 7, 2022</td>\n",
       "      <td>VET TEC Funding Now Available For Dallas Veterans</td>\n",
       "      <td>We are so happy to announce that VET TEC benef...</td>\n",
       "      <td>https://codeup.com/codeup-news/vet-tec-funding...</td>\n",
       "    </tr>\n",
       "    <tr>\n",
       "      <th>2</th>\n",
       "      <td>Dec 30, 2021</td>\n",
       "      <td>Dallas Campus Re-opens With New Grant Partner</td>\n",
       "      <td>We are happy to announce that our Dallas campu...</td>\n",
       "      <td>https://codeup.com/codeup-news/dallas-campus-r...</td>\n",
       "    </tr>\n",
       "    <tr>\n",
       "      <th>3</th>\n",
       "      <td>Nov 30, 2021</td>\n",
       "      <td>Codeup Dallas Open House</td>\n",
       "      <td>Come join us for the re-opening of our Dallas ...</td>\n",
       "      <td>https://codeup.com/dallas-newsletter/codeup-da...</td>\n",
       "    </tr>\n",
       "    <tr>\n",
       "      <th>4</th>\n",
       "      <td>Nov 19, 2021</td>\n",
       "      <td>Codeup’s Placement Team Continues Setting Records</td>\n",
       "      <td>Our Placement Team is simply defined as a grou...</td>\n",
       "      <td>https://codeup.com/codeup-news/codeups-placeme...</td>\n",
       "    </tr>\n",
       "  </tbody>\n",
       "</table>\n",
       "</div>"
      ],
      "text/plain": [
       "   publish_date                                            article  \\\n",
       "0  Jan 26, 2022                  Codeup Start Dates for March 2022   \n",
       "1   Jan 7, 2022  VET TEC Funding Now Available For Dallas Veterans   \n",
       "2  Dec 30, 2021      Dallas Campus Re-opens With New Grant Partner   \n",
       "3  Nov 30, 2021                           Codeup Dallas Open House   \n",
       "4  Nov 19, 2021  Codeup’s Placement Team Continues Setting Records   \n",
       "\n",
       "                                             content  \\\n",
       "0  As we approach the end of January we wanted to...   \n",
       "1  We are so happy to announce that VET TEC benef...   \n",
       "2  We are happy to announce that our Dallas campu...   \n",
       "3  Come join us for the re-opening of our Dallas ...   \n",
       "4  Our Placement Team is simply defined as a grou...   \n",
       "\n",
       "                                                link  \n",
       "0  https://codeup.com/codeup-news/codeup-start-da...  \n",
       "1  https://codeup.com/codeup-news/vet-tec-funding...  \n",
       "2  https://codeup.com/codeup-news/dallas-campus-r...  \n",
       "3  https://codeup.com/dallas-newsletter/codeup-da...  \n",
       "4  https://codeup.com/codeup-news/codeups-placeme...  "
      ]
     },
     "execution_count": 10,
     "metadata": {},
     "output_type": "execute_result"
    }
   ],
   "source": [
    "# acquire codeup blog data\n",
    "codeup_df = acquire.get_blog_articles()\n",
    "\n",
    "# preview data\n",
    "codeup_df.head()"
   ]
  },
  {
   "cell_type": "code",
   "execution_count": 11,
   "id": "f9ac2f54",
   "metadata": {},
   "outputs": [
    {
     "name": "stdout",
     "output_type": "stream",
     "text": [
      "<class 'pandas.core.frame.DataFrame'>\n",
      "Int64Index: 18 entries, 0 to 17\n",
      "Data columns (total 4 columns):\n",
      " #   Column        Non-Null Count  Dtype \n",
      "---  ------        --------------  ----- \n",
      " 0   publish_date  18 non-null     object\n",
      " 1   article       18 non-null     object\n",
      " 2   content       18 non-null     object\n",
      " 3   link          18 non-null     object\n",
      "dtypes: object(4)\n",
      "memory usage: 720.0+ bytes\n"
     ]
    }
   ],
   "source": [
    "# get dataframe info\n",
    "codeup_df.info()"
   ]
  },
  {
   "cell_type": "markdown",
   "id": "789e47e0",
   "metadata": {},
   "source": [
    "### Exercise VIII\n",
    "For each dataframe, produce the following columns:\n",
    "\n",
    "- title to hold the title\n",
    "- original to hold the original article/post content\n",
    "- clean to hold the normalized and tokenized original with the stopwords removed.\n",
    "- stemmed to hold the stemmed version of the cleaned data.\n",
    "- lemmatized to hold the lemmatized version of the cleaned data."
   ]
  },
  {
   "cell_type": "code",
   "execution_count": 12,
   "id": "0ed1bde3",
   "metadata": {},
   "outputs": [],
   "source": [
    "# produce title and original columns for news articles\n",
    "news_df = news_df.rename(columns = {'article': 'title',    \n",
    "                                    'content': 'original'\n",
    "                                   }\n",
    "                        )\n",
    "# produce title and original columns for codeup blogs\n",
    "codeup_df = codeup_df.rename(columns = {'article': 'title',    \n",
    "                                    'content': 'original'\n",
    "                                   }\n",
    "                            )"
   ]
  },
  {
   "cell_type": "code",
   "execution_count": 13,
   "id": "7b4b4ed4",
   "metadata": {},
   "outputs": [
    {
     "data": {
      "text/plain": [
       "0    rbi cancelled licence maharashtrabased indepen...\n",
       "1    capex outlay increased private capital require...\n",
       "2    latest episode urban company impact interviews...\n",
       "3    facebooks parent metas shares plunged 27 thurs...\n",
       "4    virtual meeting meta ceo mark zuckerberg expla...\n",
       "Name: clean, dtype: object"
      ]
     },
     "execution_count": 13,
     "metadata": {},
     "output_type": "execute_result"
    }
   ],
   "source": [
    "# produce 'clean' column. clean and then tokenize\n",
    "news_df['clean'] = news_df.original.apply(basic_clean)\\\n",
    ".apply(tokenize)\\\n",
    ".apply(remove_stopwords)\n",
    "\n",
    "# verify\n",
    "news_df.clean.head()"
   ]
  },
  {
   "cell_type": "code",
   "execution_count": 14,
   "id": "2ec26bea",
   "metadata": {},
   "outputs": [
    {
     "data": {
      "text/plain": [
       "0    approach end january wanted look forward next ...\n",
       "1    happy announce vet tec benefits available used...\n",
       "2    happy announce dallas campus reopened better y...\n",
       "3    come join us reopening dallas campus drinks sn...\n",
       "4    placement team simply defined group manages re...\n",
       "Name: clean, dtype: object"
      ]
     },
     "execution_count": 14,
     "metadata": {},
     "output_type": "execute_result"
    }
   ],
   "source": [
    "# produce 'clean' column. clean and then tokenize\n",
    "codeup_df['clean'] = codeup_df.original.apply(basic_clean)\\\n",
    ".apply(tokenize)\\\n",
    ".apply(remove_stopwords)\n",
    "\n",
    "# verify\n",
    "codeup_df.clean.head()"
   ]
  },
  {
   "cell_type": "code",
   "execution_count": 15,
   "id": "20b0d4d7",
   "metadata": {},
   "outputs": [
    {
     "data": {
      "text/plain": [
       "0     rbi cancel licenc maharashtrabas independ coop...\n",
       "1     capex outlay increas privat capit requir finan...\n",
       "2     latest episod urban compani impact interview a...\n",
       "3     facebook parent meta share plung 27 thursday c...\n",
       "4     virtual meet meta ceo mark zuckerberg explain ...\n",
       "                            ...                        \n",
       "19    actress deepika padukon made bollywood debut 2...\n",
       "20    ajay devgn share first look charact gangubai k...\n",
       "21    nitu chandra made hollywood debut never back r...\n",
       "22    actor emraan hashmi took twitter thursday wish...\n",
       "23    italian actor michel morron star film 365 day ...\n",
       "Name: stemmed, Length: 99, dtype: object"
      ]
     },
     "execution_count": 15,
     "metadata": {},
     "output_type": "execute_result"
    }
   ],
   "source": [
    "# produce 'stemmed' column from cleaned column\n",
    "news_df['stemmed'] = news_df.clean.apply(stem)\n",
    "\n",
    "# verify\n",
    "news_df.stemmed"
   ]
  },
  {
   "cell_type": "code",
   "execution_count": 16,
   "id": "68db04da",
   "metadata": {},
   "outputs": [
    {
     "data": {
      "text/plain": [
       "0     approach end januari want look forward next st...\n",
       "1     happi announc vet tec benefit avail use campu ...\n",
       "2     happi announc dalla campu reopen better yet ne...\n",
       "3     come join us reopen dalla campu drink snack co...\n",
       "4     placement team simpli defin group manag relati...\n",
       "5     aw googl azur red hat comptiathes big name pro...\n",
       "6     last month us experienc dozen major cyberattac...\n",
       "7     end militari servic get closer mani transit se...\n",
       "8     career choos your think career lot direct coul...\n",
       "9     codeup offer 13week train program system engin...\n",
       "10    alicia gonzalez codeup home health speechlangu...\n",
       "11                                                     \n",
       "12    look best data scienc bootcamp world best code...\n",
       "13    podcast enthusiast pleas announc releas codeup...\n",
       "14    mani tech career demand choos system administr...\n",
       "15    know even though independ school multipl regul...\n",
       "16    codeup move anoth floor histor vogu build down...\n",
       "17    happi pride month pride month dedic time celeb...\n",
       "Name: stemmed, dtype: object"
      ]
     },
     "execution_count": 16,
     "metadata": {},
     "output_type": "execute_result"
    }
   ],
   "source": [
    "# produce 'stemmed' column from cleaned column\n",
    "codeup_df['stemmed'] = codeup_df.clean.apply(stem)\n",
    "\n",
    "# verify\n",
    "codeup_df.stemmed"
   ]
  },
  {
   "cell_type": "code",
   "execution_count": 17,
   "id": "9d453489",
   "metadata": {},
   "outputs": [
    {
     "data": {
      "text/plain": [
       "0     rbi cancelled licence maharashtrabased indepen...\n",
       "1     capex outlay increased private capital require...\n",
       "2     latest episode urban company impact interview ...\n",
       "3     facebooks parent metas share plunged 27 thursd...\n",
       "4     virtual meeting meta ceo mark zuckerberg expla...\n",
       "                            ...                        \n",
       "19    actress deepika padukone made bollywood debut ...\n",
       "20    ajay devgn shared first look character ganguba...\n",
       "21    nitu chandra made hollywood debut never back r...\n",
       "22    actor emraan hashmi took twitter thursday wish...\n",
       "23    italian actor michele morrone starred film 365...\n",
       "Name: lemmatized, Length: 99, dtype: object"
      ]
     },
     "execution_count": 17,
     "metadata": {},
     "output_type": "execute_result"
    }
   ],
   "source": [
    "# produce 'lemmatized' column from cleaned column\n",
    "news_df['lemmatized'] = news_df.clean.apply(lemmatize)\n",
    "\n",
    "# verify\n",
    "news_df.lemmatized"
   ]
  },
  {
   "cell_type": "code",
   "execution_count": 18,
   "id": "05810386",
   "metadata": {},
   "outputs": [
    {
     "data": {
      "text/plain": [
       "0     approach end january wanted look forward next ...\n",
       "1     happy announce vet tec benefit available used ...\n",
       "2     happy announce dallas campus reopened better y...\n",
       "3     come join u reopening dallas campus drink snac...\n",
       "4     placement team simply defined group manages re...\n",
       "5     aws google azure red hat comptiathese big name...\n",
       "6     last month u experienced dozen major cyberatta...\n",
       "7     end military service get closer many transitio...\n",
       "8     career choose youre thinking career lot direct...\n",
       "9     codeup offer 13week training program system en...\n",
       "10    alicia gonzalez codeup home health speechlangu...\n",
       "11                                                     \n",
       "12    looking best data science bootcamp world best ...\n",
       "13    podcast enthusiast pleased announce release co...\n",
       "14    many tech career demand choose system administ...\n",
       "15    know even though independent school multiple r...\n",
       "16    codeup moving another floor historic vogue bui...\n",
       "17    happy pride month pride month dedicated time c...\n",
       "Name: lemmatized, dtype: object"
      ]
     },
     "execution_count": 18,
     "metadata": {},
     "output_type": "execute_result"
    }
   ],
   "source": [
    "# produce 'lemmatized' column from cleaned column\n",
    "codeup_df['lemmatized'] = codeup_df.clean.apply(lemmatize)\n",
    "\n",
    "# verify\n",
    "codeup_df.lemmatized"
   ]
  },
  {
   "cell_type": "code",
   "execution_count": 19,
   "id": "64295216",
   "metadata": {},
   "outputs": [
    {
     "data": {
      "text/html": [
       "<div>\n",
       "<style scoped>\n",
       "    .dataframe tbody tr th:only-of-type {\n",
       "        vertical-align: middle;\n",
       "    }\n",
       "\n",
       "    .dataframe tbody tr th {\n",
       "        vertical-align: top;\n",
       "    }\n",
       "\n",
       "    .dataframe thead th {\n",
       "        text-align: right;\n",
       "    }\n",
       "</style>\n",
       "<table border=\"1\" class=\"dataframe\">\n",
       "  <thead>\n",
       "    <tr style=\"text-align: right;\">\n",
       "      <th></th>\n",
       "      <th>category</th>\n",
       "      <th>publish_date</th>\n",
       "      <th>title</th>\n",
       "      <th>original</th>\n",
       "      <th>author</th>\n",
       "      <th>clean</th>\n",
       "      <th>stemmed</th>\n",
       "      <th>lemmatized</th>\n",
       "    </tr>\n",
       "  </thead>\n",
       "  <tbody>\n",
       "    <tr>\n",
       "      <th>0</th>\n",
       "      <td>business</td>\n",
       "      <td>03 Feb 2022,Thursday</td>\n",
       "      <td>RBI cancels licence of Maha-based Independence...</td>\n",
       "      <td>RBI has cancelled licence of Maharashtra-based...</td>\n",
       "      <td>Shalini Ojha</td>\n",
       "      <td>rbi cancelled licence maharashtrabased indepen...</td>\n",
       "      <td>rbi cancel licenc maharashtrabas independ coop...</td>\n",
       "      <td>rbi cancelled licence maharashtrabased indepen...</td>\n",
       "    </tr>\n",
       "  </tbody>\n",
       "</table>\n",
       "</div>"
      ],
      "text/plain": [
       "   category          publish_date  \\\n",
       "0  business  03 Feb 2022,Thursday   \n",
       "\n",
       "                                               title  \\\n",
       "0  RBI cancels licence of Maha-based Independence...   \n",
       "\n",
       "                                            original        author  \\\n",
       "0  RBI has cancelled licence of Maharashtra-based...  Shalini Ojha   \n",
       "\n",
       "                                               clean  \\\n",
       "0  rbi cancelled licence maharashtrabased indepen...   \n",
       "\n",
       "                                             stemmed  \\\n",
       "0  rbi cancel licenc maharashtrabas independ coop...   \n",
       "\n",
       "                                          lemmatized  \n",
       "0  rbi cancelled licence maharashtrabased indepen...  "
      ]
     },
     "execution_count": 19,
     "metadata": {},
     "output_type": "execute_result"
    }
   ],
   "source": [
    "news_df.head(1)"
   ]
  },
  {
   "cell_type": "code",
   "execution_count": 20,
   "id": "e1388e70",
   "metadata": {},
   "outputs": [
    {
     "data": {
      "text/html": [
       "<div>\n",
       "<style scoped>\n",
       "    .dataframe tbody tr th:only-of-type {\n",
       "        vertical-align: middle;\n",
       "    }\n",
       "\n",
       "    .dataframe tbody tr th {\n",
       "        vertical-align: top;\n",
       "    }\n",
       "\n",
       "    .dataframe thead th {\n",
       "        text-align: right;\n",
       "    }\n",
       "</style>\n",
       "<table border=\"1\" class=\"dataframe\">\n",
       "  <thead>\n",
       "    <tr style=\"text-align: right;\">\n",
       "      <th></th>\n",
       "      <th>publish_date</th>\n",
       "      <th>title</th>\n",
       "      <th>original</th>\n",
       "      <th>link</th>\n",
       "      <th>clean</th>\n",
       "      <th>stemmed</th>\n",
       "      <th>lemmatized</th>\n",
       "    </tr>\n",
       "  </thead>\n",
       "  <tbody>\n",
       "    <tr>\n",
       "      <th>0</th>\n",
       "      <td>Jan 26, 2022</td>\n",
       "      <td>Codeup Start Dates for March 2022</td>\n",
       "      <td>As we approach the end of January we wanted to...</td>\n",
       "      <td>https://codeup.com/codeup-news/codeup-start-da...</td>\n",
       "      <td>approach end january wanted look forward next ...</td>\n",
       "      <td>approach end januari want look forward next st...</td>\n",
       "      <td>approach end january wanted look forward next ...</td>\n",
       "    </tr>\n",
       "  </tbody>\n",
       "</table>\n",
       "</div>"
      ],
      "text/plain": [
       "   publish_date                              title  \\\n",
       "0  Jan 26, 2022  Codeup Start Dates for March 2022   \n",
       "\n",
       "                                            original  \\\n",
       "0  As we approach the end of January we wanted to...   \n",
       "\n",
       "                                                link  \\\n",
       "0  https://codeup.com/codeup-news/codeup-start-da...   \n",
       "\n",
       "                                               clean  \\\n",
       "0  approach end january wanted look forward next ...   \n",
       "\n",
       "                                             stemmed  \\\n",
       "0  approach end januari want look forward next st...   \n",
       "\n",
       "                                          lemmatized  \n",
       "0  approach end january wanted look forward next ...  "
      ]
     },
     "execution_count": 20,
     "metadata": {},
     "output_type": "execute_result"
    }
   ],
   "source": [
    "codeup_df.head(1)"
   ]
  },
  {
   "cell_type": "code",
   "execution_count": 21,
   "id": "ce50ee2d",
   "metadata": {},
   "outputs": [],
   "source": [
    "# ty AG\n",
    "def prep_articles(df, original, extra_words = [], exclude_words = []):\n",
    "    \n",
    "    '''\n",
    "    This function takes in a dataframe, the original corpus column, a list of extra words to supplement\n",
    "    the list of stop words, and a list of words to exclude from the stop words list, and returns the dataframe \n",
    "    supplemented with clean, stemmed, and lemmatized columns.\n",
    "    '''\n",
    "    # produce 'original' column\n",
    "    df = df.rename(columns = {original: 'original'})\n",
    "    \n",
    "    # produce 'clean' column. clean and then tokenize\n",
    "    df['clean'] = df['original'].apply(basic_clean)\\\n",
    "    .apply(tokenize)\\\n",
    "    .apply(remove_stopwords, extra_words = extra_words, exclude_words = exclude_words)\n",
    "          \n",
    "    # produce 'stemmed' column from cleaned column\n",
    "    df['stemmed'] = df.clean.apply(stem)\n",
    "    \n",
    "    # produce 'lemmatized' column from cleaned column\n",
    "    df['lemmatized'] = df.clean.apply(lemmatize)\n",
    "    \n",
    "    return df"
   ]
  },
  {
   "cell_type": "code",
   "execution_count": 22,
   "id": "004ccf75",
   "metadata": {},
   "outputs": [
    {
     "data": {
      "text/html": [
       "<div>\n",
       "<style scoped>\n",
       "    .dataframe tbody tr th:only-of-type {\n",
       "        vertical-align: middle;\n",
       "    }\n",
       "\n",
       "    .dataframe tbody tr th {\n",
       "        vertical-align: top;\n",
       "    }\n",
       "\n",
       "    .dataframe thead th {\n",
       "        text-align: right;\n",
       "    }\n",
       "</style>\n",
       "<table border=\"1\" class=\"dataframe\">\n",
       "  <thead>\n",
       "    <tr style=\"text-align: right;\">\n",
       "      <th></th>\n",
       "      <th>publish_date</th>\n",
       "      <th>article</th>\n",
       "      <th>original</th>\n",
       "      <th>link</th>\n",
       "      <th>clean</th>\n",
       "      <th>stemmed</th>\n",
       "      <th>lemmatized</th>\n",
       "    </tr>\n",
       "  </thead>\n",
       "  <tbody>\n",
       "    <tr>\n",
       "      <th>0</th>\n",
       "      <td>Jan 26, 2022</td>\n",
       "      <td>Codeup Start Dates for March 2022</td>\n",
       "      <td>As we approach the end of January we wanted to...</td>\n",
       "      <td>https://codeup.com/codeup-news/codeup-start-da...</td>\n",
       "      <td>approach end january wanted look forward next ...</td>\n",
       "      <td>approach end januari want look forward next st...</td>\n",
       "      <td>approach end january wanted look forward next ...</td>\n",
       "    </tr>\n",
       "    <tr>\n",
       "      <th>1</th>\n",
       "      <td>Jan 7, 2022</td>\n",
       "      <td>VET TEC Funding Now Available For Dallas Veterans</td>\n",
       "      <td>We are so happy to announce that VET TEC benef...</td>\n",
       "      <td>https://codeup.com/codeup-news/vet-tec-funding...</td>\n",
       "      <td>happy announce vet tec benefits available used...</td>\n",
       "      <td>happi announc vet tec benefit avail use campu ...</td>\n",
       "      <td>happy announce vet tec benefit available used ...</td>\n",
       "    </tr>\n",
       "    <tr>\n",
       "      <th>2</th>\n",
       "      <td>Dec 30, 2021</td>\n",
       "      <td>Dallas Campus Re-opens With New Grant Partner</td>\n",
       "      <td>We are happy to announce that our Dallas campu...</td>\n",
       "      <td>https://codeup.com/codeup-news/dallas-campus-r...</td>\n",
       "      <td>happy announce dallas campus reopened better y...</td>\n",
       "      <td>happi announc dalla campu reopen better yet ne...</td>\n",
       "      <td>happy announce dallas campus reopened better y...</td>\n",
       "    </tr>\n",
       "    <tr>\n",
       "      <th>3</th>\n",
       "      <td>Nov 30, 2021</td>\n",
       "      <td>Codeup Dallas Open House</td>\n",
       "      <td>Come join us for the re-opening of our Dallas ...</td>\n",
       "      <td>https://codeup.com/dallas-newsletter/codeup-da...</td>\n",
       "      <td>come join us reopening dallas campus drinks sn...</td>\n",
       "      <td>come join us reopen dalla campu drink snack co...</td>\n",
       "      <td>come join u reopening dallas campus drink snac...</td>\n",
       "    </tr>\n",
       "    <tr>\n",
       "      <th>4</th>\n",
       "      <td>Nov 19, 2021</td>\n",
       "      <td>Codeup’s Placement Team Continues Setting Records</td>\n",
       "      <td>Our Placement Team is simply defined as a grou...</td>\n",
       "      <td>https://codeup.com/codeup-news/codeups-placeme...</td>\n",
       "      <td>placement team simply defined group manages re...</td>\n",
       "      <td>placement team simpli defin group manag relati...</td>\n",
       "      <td>placement team simply defined group manages re...</td>\n",
       "    </tr>\n",
       "  </tbody>\n",
       "</table>\n",
       "</div>"
      ],
      "text/plain": [
       "   publish_date                                            article  \\\n",
       "0  Jan 26, 2022                  Codeup Start Dates for March 2022   \n",
       "1   Jan 7, 2022  VET TEC Funding Now Available For Dallas Veterans   \n",
       "2  Dec 30, 2021      Dallas Campus Re-opens With New Grant Partner   \n",
       "3  Nov 30, 2021                           Codeup Dallas Open House   \n",
       "4  Nov 19, 2021  Codeup’s Placement Team Continues Setting Records   \n",
       "\n",
       "                                            original  \\\n",
       "0  As we approach the end of January we wanted to...   \n",
       "1  We are so happy to announce that VET TEC benef...   \n",
       "2  We are happy to announce that our Dallas campu...   \n",
       "3  Come join us for the re-opening of our Dallas ...   \n",
       "4  Our Placement Team is simply defined as a grou...   \n",
       "\n",
       "                                                link  \\\n",
       "0  https://codeup.com/codeup-news/codeup-start-da...   \n",
       "1  https://codeup.com/codeup-news/vet-tec-funding...   \n",
       "2  https://codeup.com/codeup-news/dallas-campus-r...   \n",
       "3  https://codeup.com/dallas-newsletter/codeup-da...   \n",
       "4  https://codeup.com/codeup-news/codeups-placeme...   \n",
       "\n",
       "                                               clean  \\\n",
       "0  approach end january wanted look forward next ...   \n",
       "1  happy announce vet tec benefits available used...   \n",
       "2  happy announce dallas campus reopened better y...   \n",
       "3  come join us reopening dallas campus drinks sn...   \n",
       "4  placement team simply defined group manages re...   \n",
       "\n",
       "                                             stemmed  \\\n",
       "0  approach end januari want look forward next st...   \n",
       "1  happi announc vet tec benefit avail use campu ...   \n",
       "2  happi announc dalla campu reopen better yet ne...   \n",
       "3  come join us reopen dalla campu drink snack co...   \n",
       "4  placement team simpli defin group manag relati...   \n",
       "\n",
       "                                          lemmatized  \n",
       "0  approach end january wanted look forward next ...  \n",
       "1  happy announce vet tec benefit available used ...  \n",
       "2  happy announce dallas campus reopened better y...  \n",
       "3  come join u reopening dallas campus drink snac...  \n",
       "4  placement team simply defined group manages re...  "
      ]
     },
     "execution_count": 22,
     "metadata": {},
     "output_type": "execute_result"
    }
   ],
   "source": [
    "# test function\n",
    "blogs = acquire.get_blog_articles()\n",
    "\n",
    "# test prep_articles function\n",
    "codeup_df = prep_articles(blogs, 'content')\n",
    "codeup_df.head()"
   ]
  },
  {
   "cell_type": "code",
   "execution_count": 23,
   "id": "333360d6",
   "metadata": {},
   "outputs": [
    {
     "data": {
      "text/html": [
       "<div>\n",
       "<style scoped>\n",
       "    .dataframe tbody tr th:only-of-type {\n",
       "        vertical-align: middle;\n",
       "    }\n",
       "\n",
       "    .dataframe tbody tr th {\n",
       "        vertical-align: top;\n",
       "    }\n",
       "\n",
       "    .dataframe thead th {\n",
       "        text-align: right;\n",
       "    }\n",
       "</style>\n",
       "<table border=\"1\" class=\"dataframe\">\n",
       "  <thead>\n",
       "    <tr style=\"text-align: right;\">\n",
       "      <th></th>\n",
       "      <th>category</th>\n",
       "      <th>publish_date</th>\n",
       "      <th>article</th>\n",
       "      <th>original</th>\n",
       "      <th>author</th>\n",
       "      <th>clean</th>\n",
       "      <th>stemmed</th>\n",
       "      <th>lemmatized</th>\n",
       "    </tr>\n",
       "  </thead>\n",
       "  <tbody>\n",
       "    <tr>\n",
       "      <th>0</th>\n",
       "      <td>business</td>\n",
       "      <td>03 Feb 2022,Thursday</td>\n",
       "      <td>RBI cancels licence of Maha-based Independence...</td>\n",
       "      <td>RBI has cancelled licence of Maharashtra-based...</td>\n",
       "      <td>Shalini Ojha</td>\n",
       "      <td>rbi cancelled licence maharashtrabased indepen...</td>\n",
       "      <td>rbi cancel licenc maharashtrabas independ coop...</td>\n",
       "      <td>rbi cancelled licence maharashtrabased indepen...</td>\n",
       "    </tr>\n",
       "    <tr>\n",
       "      <th>1</th>\n",
       "      <td>business</td>\n",
       "      <td>04 Feb 2022,Friday</td>\n",
       "      <td>This is an infrastructure and growth-focused B...</td>\n",
       "      <td>Capex outlay has been increased and private ca...</td>\n",
       "      <td>Roshan Gupta</td>\n",
       "      <td>capex outlay increased private capital require...</td>\n",
       "      <td>capex outlay increas privat capit requir finan...</td>\n",
       "      <td>capex outlay increased private capital require...</td>\n",
       "    </tr>\n",
       "    <tr>\n",
       "      <th>2</th>\n",
       "      <td>business</td>\n",
       "      <td>04 Feb 2022,Friday</td>\n",
       "      <td>Self-taught beautician to micro-entrepreneur, ...</td>\n",
       "      <td>The latest episode of Urban Company Impact int...</td>\n",
       "      <td>Roshan Gupta</td>\n",
       "      <td>latest episode urban company impact interviews...</td>\n",
       "      <td>latest episod urban compani impact interview a...</td>\n",
       "      <td>latest episode urban company impact interview ...</td>\n",
       "    </tr>\n",
       "    <tr>\n",
       "      <th>3</th>\n",
       "      <td>business</td>\n",
       "      <td>03 Feb 2022,Thursday</td>\n",
       "      <td>Facebook parent Meta's $230-billion wipeout bi...</td>\n",
       "      <td>Facebook's parent Meta's shares plunged 27% an...</td>\n",
       "      <td>Pragya Swastik</td>\n",
       "      <td>facebooks parent metas shares plunged 27 thurs...</td>\n",
       "      <td>facebook parent meta share plung 27 thursday c...</td>\n",
       "      <td>facebooks parent metas share plunged 27 thursd...</td>\n",
       "    </tr>\n",
       "    <tr>\n",
       "      <th>4</th>\n",
       "      <td>business</td>\n",
       "      <td>04 Feb 2022,Friday</td>\n",
       "      <td>Facebook facing unprecedented level of competi...</td>\n",
       "      <td>At a virtual meeting, Meta CEO Mark Zuckerberg...</td>\n",
       "      <td>Kiran Khatri</td>\n",
       "      <td>virtual meeting meta ceo mark zuckerberg expla...</td>\n",
       "      <td>virtual meet meta ceo mark zuckerberg explain ...</td>\n",
       "      <td>virtual meeting meta ceo mark zuckerberg expla...</td>\n",
       "    </tr>\n",
       "  </tbody>\n",
       "</table>\n",
       "</div>"
      ],
      "text/plain": [
       "   category          publish_date  \\\n",
       "0  business  03 Feb 2022,Thursday   \n",
       "1  business    04 Feb 2022,Friday   \n",
       "2  business    04 Feb 2022,Friday   \n",
       "3  business  03 Feb 2022,Thursday   \n",
       "4  business    04 Feb 2022,Friday   \n",
       "\n",
       "                                             article  \\\n",
       "0  RBI cancels licence of Maha-based Independence...   \n",
       "1  This is an infrastructure and growth-focused B...   \n",
       "2  Self-taught beautician to micro-entrepreneur, ...   \n",
       "3  Facebook parent Meta's $230-billion wipeout bi...   \n",
       "4  Facebook facing unprecedented level of competi...   \n",
       "\n",
       "                                            original          author  \\\n",
       "0  RBI has cancelled licence of Maharashtra-based...    Shalini Ojha   \n",
       "1  Capex outlay has been increased and private ca...    Roshan Gupta   \n",
       "2  The latest episode of Urban Company Impact int...    Roshan Gupta   \n",
       "3  Facebook's parent Meta's shares plunged 27% an...  Pragya Swastik   \n",
       "4  At a virtual meeting, Meta CEO Mark Zuckerberg...    Kiran Khatri   \n",
       "\n",
       "                                               clean  \\\n",
       "0  rbi cancelled licence maharashtrabased indepen...   \n",
       "1  capex outlay increased private capital require...   \n",
       "2  latest episode urban company impact interviews...   \n",
       "3  facebooks parent metas shares plunged 27 thurs...   \n",
       "4  virtual meeting meta ceo mark zuckerberg expla...   \n",
       "\n",
       "                                             stemmed  \\\n",
       "0  rbi cancel licenc maharashtrabas independ coop...   \n",
       "1  capex outlay increas privat capit requir finan...   \n",
       "2  latest episod urban compani impact interview a...   \n",
       "3  facebook parent meta share plung 27 thursday c...   \n",
       "4  virtual meet meta ceo mark zuckerberg explain ...   \n",
       "\n",
       "                                          lemmatized  \n",
       "0  rbi cancelled licence maharashtrabased indepen...  \n",
       "1  capex outlay increased private capital require...  \n",
       "2  latest episode urban company impact interview ...  \n",
       "3  facebooks parent metas share plunged 27 thursd...  \n",
       "4  virtual meeting meta ceo mark zuckerberg expla...  "
      ]
     },
     "execution_count": 23,
     "metadata": {},
     "output_type": "execute_result"
    }
   ],
   "source": [
    "# testing, attention, please\n",
    "inshorts = acquire.get_inshorts()\n",
    "news_df = prep_articles(inshorts, 'content')\n",
    "news_df.head()"
   ]
  },
  {
   "cell_type": "markdown",
   "id": "beab2ce8",
   "metadata": {},
   "source": [
    "### Exercise IX\n",
    "Ask yourself:\n",
    "\n",
    "- If your corpus is 493KB, would you prefer to use stemmed or lemmatized text?\n",
    "- If your corpus is 25MB, would you prefer to use stemmed or lemmatized text?\n",
    "- If your corpus is 200TB of text and you're charged by the megabyte for your hosted computational resources, would you prefer to use stemmed or lemmatized text?"
   ]
  },
  {
   "cell_type": "markdown",
   "id": "fcdffcd4",
   "metadata": {},
   "source": [
    "If my corpus is 493KB or even 25MB, I would prefer to lemmatize. If my corpus is 200TB of data, I'm leaving. Jk I would stem the text."
   ]
  }
 ],
 "metadata": {
  "kernelspec": {
   "display_name": "Python 3",
   "language": "python",
   "name": "python3"
  },
  "language_info": {
   "codemirror_mode": {
    "name": "ipython",
    "version": 3
   },
   "file_extension": ".py",
   "mimetype": "text/x-python",
   "name": "python",
   "nbconvert_exporter": "python",
   "pygments_lexer": "ipython3",
   "version": "3.8.8"
  }
 },
 "nbformat": 4,
 "nbformat_minor": 5
}
